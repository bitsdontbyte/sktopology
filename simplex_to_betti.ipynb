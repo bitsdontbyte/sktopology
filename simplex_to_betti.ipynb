{
 "cells": [
  {
   "cell_type": "code",
   "execution_count": 2,
   "metadata": {},
   "outputs": [],
   "source": [
    "from IPython.display import Image\n",
    "from os import chdir\n",
    "import numpy as np\n",
    "import gudhi as gd\n",
    "import matplotlib.pyplot as plt"
   ]
  },
  {
   "cell_type": "code",
   "execution_count": 6,
   "metadata": {},
   "outputs": [
    {
     "name": "stdout",
     "output_type": "stream",
     "text": [
      "Dimensions :  2\n",
      "num of vertices :  7\n",
      "num of Simplices :  25\n",
      "betti_numbers :  [1, 0, 0]\n"
     ]
    }
   ],
   "source": [
    "st = gd.SimplexTree()\n",
    "\n",
    "st.insert([1, 4])\n",
    "st.insert([1, 6])\n",
    "st.insert([2,4])\n",
    "st.insert([2,5])\n",
    "st.insert([3,6])\n",
    "st.insert([3,5])\n",
    "st.insert([1,4,7])\n",
    "st.insert([4,2,7])\n",
    "st.insert([2,5,7])\n",
    "st.insert([5,3,7])\n",
    "st.insert([1,6,7])\n",
    "st.insert([3,6,7])\n",
    "\n",
    "    \n",
    "print(\"Dimensions : \" , st.dimension())\n",
    "print(\"num of vertices : \" , st.num_vertices())\n",
    "print(\"num of Simplices : \" , st.num_simplices())\n",
    "diag = st.persistence(persistence_dim_max=True)\n",
    "# gd.plot_persistence_diagram(diag)\n",
    "# gd.plot_persistence_barcode(diag)\n",
    "bettis = st.betti_numbers()\n",
    "print( \"betti_numbers : \" , bettis )"
   ]
  },
  {
   "cell_type": "code",
   "execution_count": null,
   "metadata": {},
   "outputs": [],
   "source": []
  }
 ],
 "metadata": {
  "kernelspec": {
   "display_name": "Python 3",
   "language": "python",
   "name": "python3"
  },
  "language_info": {
   "codemirror_mode": {
    "name": "ipython",
    "version": 3
   },
   "file_extension": ".py",
   "mimetype": "text/x-python",
   "name": "python",
   "nbconvert_exporter": "python",
   "pygments_lexer": "ipython3",
   "version": "3.8.5"
  }
 },
 "nbformat": 4,
 "nbformat_minor": 4
}
